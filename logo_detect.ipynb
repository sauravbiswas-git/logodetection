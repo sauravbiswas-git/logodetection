{
  "nbformat": 4,
  "nbformat_minor": 0,
  "metadata": {
    "kernelspec": {
      "display_name": "Python 3",
      "language": "python",
      "name": "python3"
    },
    "language_info": {
      "codemirror_mode": {
        "name": "ipython",
        "version": 3
      },
      "file_extension": ".py",
      "mimetype": "text/x-python",
      "name": "python",
      "nbconvert_exporter": "python",
      "pygments_lexer": "ipython3",
      "version": "3.7.2"
    },
    "colab": {
      "name": "logo_clustering-checkpoint.ipynb",
      "provenance": []
    }
  },
  "cells": [
    {
      "cell_type": "code",
      "metadata": {
        "id": "TVlJxy7491rW"
      },
      "source": [
        "# import the necessary packages\n",
        "import numpy as np\n",
        "import argparse\n",
        "import imutils\n",
        "import glob\n",
        "import cv2\n",
        "from sklearn.neighbors import KNeighborsClassifier\n",
        "from skimage import exposure\n",
        "from skimage import feature\n",
        "from imutils import paths\n"
      ],
      "execution_count": null,
      "outputs": []
    },
    {
      "cell_type": "code",
      "metadata": {
        "id": "dbdy86DQ91rc"
      },
      "source": [
        "data = []\n",
        "labels = []"
      ],
      "execution_count": null,
      "outputs": []
    },
    {
      "cell_type": "code",
      "metadata": {
        "id": "UBNuWP_v91re"
      },
      "source": [
        "for imagePath in paths.list_images(\"../train\"):\n",
        "    # extract the make of the car\n",
        "    make = imagePath.split(\"/\")[-2]\n",
        " \n",
        "    # load the image, convert it to grayscale, and detect edges\n",
        "    image = cv2.imread(imagePath)\n",
        "    image = cv2.resize(image, (200, 200))\n",
        "    gray = cv2.cvtColor(image, cv2.COLOR_BGR2GRAY)\n",
        "    edged = imutils.auto_canny(gray)\n",
        " \n",
        "\n",
        "    cnts, _ = cv2.findContours(edged.copy(), cv2.RETR_EXTERNAL,\n",
        "        cv2.CHAIN_APPROX_SIMPLE)\n",
        "    #cnts = cnts[0] if imutils.is_cv2() else cnts[1]\n",
        "    c = max(cnts, key=cv2.contourArea)\n",
        "\n",
        "    (x, y, w, h) = cv2.boundingRect(edged) # \"c\" instead of \"edged\" to exract only logo from picture\n",
        "    logo = gray[y:y + h, x:x + w]\n",
        "    logo = cv2.resize(logo, (200, 100))\n",
        "\n",
        "    \n",
        "    H = feature.hog(logo, orientations=9, pixels_per_cell=(10, 10),\n",
        "        cells_per_block=(2, 2), transform_sqrt=True, block_norm=\"L1\")\n",
        "    # update the data and labels\n",
        "    data.append(H)\n",
        "    labels.append(make)\n"
      ],
      "execution_count": null,
      "outputs": []
    },
    {
      "cell_type": "code",
      "metadata": {
        "id": "uBez7C2691rf",
        "outputId": "69b6f3d3-3f50-4bd2-e0e4-9e7254d63dbd"
      },
      "source": [
        "# \"train\" the nearest neighbors classifier\n",
        "print(\"training classifier...\")\n",
        "model = KNeighborsClassifier(n_neighbors=1)\n",
        "model.fit(data, labels)\n",
        "print(\"evaluating...\")"
      ],
      "execution_count": null,
      "outputs": [
        {
          "output_type": "stream",
          "text": [
            "[INFO] training classifier...\n",
            "[INFO] evaluating...\n"
          ],
          "name": "stdout"
        }
      ]
    },
    {
      "cell_type": "code",
      "metadata": {
        "id": "95W0znwx91ri"
      },
      "source": [
        "# loop over the test dataset\n",
        "for (i, imagePath) in enumerate(paths.list_images(\"../testdata\")):\n",
        "   \n",
        "    image = cv2.imread(imagePath)\n",
        "    gray = cv2.cvtColor(image, cv2.COLOR_BGR2GRAY)\n",
        "    logo = cv2.resize(gray, (200, 100))\n",
        " \n",
        "   \n",
        "    (H, hogImage) = feature.hog(logo, orientations=9, pixels_per_cell=(10, 10),\n",
        "        cells_per_block=(2, 2), transform_sqrt=True, block_norm=\"L1\", visualize=True)\n",
        "    pred = model.predict(H.reshape(1, -1))[0]\n",
        " \n",
        "    hogImage = exposure.rescale_intensity(hogImage, out_range=(0, 255))\n",
        "    hogImage = hogImage.astype(\"uint8\")\n",
        "    cv2.imshow(\"HOG Image #{}\".format(i + 1), hogImage)\n",
        "     \n",
        "    image = cv2.resize(image, (400, 400))\n",
        "    # prediction on the test image and display it\n",
        "    cv2.putText(image, pred.title(), (10, 35), cv2.FONT_HERSHEY_SIMPLEX, 1.0,\n",
        "        (0, 255, 0), 3)\n",
        "    cv2.imshow(\"Test Image #{}\".format(i + 1), image)\n",
        "    cv2.waitKey(0)\n",
        "    cv2.destroyAllWindows()"
      ],
      "execution_count": null,
      "outputs": []
    },
    {
      "cell_type": "code",
      "metadata": {
        "id": "OSlx20ZJ91rj"
      },
      "source": [
        ""
      ],
      "execution_count": null,
      "outputs": []
    }
  ]
}